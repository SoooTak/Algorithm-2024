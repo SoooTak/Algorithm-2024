{
 "cells": [
  {
   "cell_type": "markdown",
   "id": "36d0ff0d-f516-45e6-8c80-6e57a6239308",
   "metadata": {},
   "source": [
    "# [5.8 띠 영역 내에서 d보다 작은 최근접 쌍의 거리 찾기]\n",
    "\n",
    "## 김민상\n",
    "\n",
    "### 1) 문제 정의 (MD)\n",
    "\n",
    "문제 이름 : 띠 영역 내에서 d보다 작은 최근접 쌍의 거리 찾기\n",
    "\n",
    "문제 설명 : 띠 영역의 점들의 리스트와 두 영역 각각의 거리의 최소값d(min(di, dp))을 매개변수로 하여 띠 영역 내의 최근접 쌍의 거리와 d를 비교해 가장 작은 거리를 반환해야함.\n",
    "\n",
    "문제 예시 : "
   ]
  },
  {
   "cell_type": "markdown",
   "id": "eaeb37b8-59cb-4c86-a6a8-c9a438e67abf",
   "metadata": {},
   "source": []
  },
  {
   "cell_type": "markdown",
   "id": "f2d90356-f068-4970-a928-82972e2a0f45",
   "metadata": {},
   "source": [
    "### 2) 알고리즘 설명  (MD)\n",
    "\n",
    "pm 내의 좌표들을 y좌표를 기준으로 오름차순으로 정렬하고, y좌표순으로 가장 위에 있는 점을 기준으로 삼고, dcross보다 y좌표 거리 차이가 작은 점들을 대상으로 거리를 계산해 d와 비교하여 최근접 거리를 갱신한다.\n",
    "\n",
    "### 3) 손으로 푼 예제 (MD, 이미지 삽입)\n"
   ]
  },
  {
   "cell_type": "markdown",
   "id": "e0a77f63-3dad-4a08-a9eb-05601da409ec",
   "metadata": {},
   "source": []
  },
  {
   "cell_type": "markdown",
   "id": "b43d970d-cf89-4a14-9afd-6fa2cf25d48f",
   "metadata": {},
   "source": [
    "### 4) 알고리즘 코드 개요(입력 변수, 출력, 알고리즘 개요) (MD)\n",
    "\n",
    "함수 이름 : strip_closest(P, d)\n",
    "\n",
    "매개변수 : 리스트 P, 거리 d\n",
    "\n",
    "출력 : 갱신된 최근접쌍 거리 d\n",
    "\n",
    "수행 순서 : \n",
    "1. d_min = d 후 좌표 리스트 P를 y좌표를 기준으로 오름차순으로 정렬한다.\n",
    "2. y좌표순으로 가장 작은 점을 기준삼고, y좌표차가 d_min보다 작은 점들과의 거리를 계산해 d_min과 비교해서 최근접 거리를 갱신한다.\n",
    "3. 모든 y좌표를 기준 삼아 모든 경우의 수를 계산하여 가장 최근접 거리를 반환한다.\n",
    "\n",
    "### 5) 알고리즘 코드 (PY,C)"
   ]
  },
  {
   "cell_type": "code",
   "execution_count": 2,
   "id": "319e6352-fd2b-4f69-9091-5874c7ad029d",
   "metadata": {},
   "outputs": [],
   "source": [
    "#202311388 김민상\n",
    "import math\n",
    "def distance(p1, p2) :\n",
    "    return math.sqrt((p1[0] - p2[0])**2 + (p1[1] - p2[1])**2)\n",
    "\n",
    "def strip_closest(P, d) :\n",
    "    n = len(P)\n",
    "    d_min = d\n",
    "    P.sort(key = lambda point:point[1])\n",
    "    \n",
    "    for i in range(n) :\n",
    "        j = i + 1\n",
    "        while j < n and (P[j][1] - P[i][1]) < d_min :\n",
    "            dij = distance(P[i], P[j])\n",
    "            if dij < d_min :\n",
    "                d_min = dij\n",
    "            j+=1\n",
    "    return d_min"
   ]
  },
  {
   "cell_type": "markdown",
   "id": "92a049b0-25da-4ca3-9d4d-a12f51989e05",
   "metadata": {},
   "source": [
    "###   6) 테스트 코드  (PY,C) , 입력을 바꾸어서"
   ]
  },
  {
   "cell_type": "code",
   "execution_count": 3,
   "id": "a83b972e-ccb9-4c2f-9cb4-edcf6ebea14b",
   "metadata": {},
   "outputs": [
    {
     "name": "stdout",
     "output_type": "stream",
     "text": [
      "1.4142135623730951\n"
     ]
    }
   ],
   "source": [
    "p = [(2,3), (12, 30), (40, 50), (5, 1), (12, 10), (3, 4)]\n",
    "d = 10\n",
    "print(strip_closest(p, d))"
   ]
  },
  {
   "cell_type": "markdown",
   "id": "d27546da-1961-4c13-953e-cb7136bb9395",
   "metadata": {},
   "source": [
    "###  7) 수행 결과 (MD, 결과 캡춰하여 이미지로 삽입)"
   ]
  },
  {
   "cell_type": "markdown",
   "id": "413a99e1-de73-413f-add6-028cdd7c620b",
   "metadata": {},
   "source": []
  },
  {
   "cell_type": "markdown",
   "id": "ff8961e8-55b0-462a-9075-a01fff3b0278",
   "metadata": {},
   "source": [
    "### 8) 복잡도 분석\n",
    "\n",
    "분할하는 과정에 의해 O(n)까지 줄일 수 있다. (merge 사용시)\n",
    "\n",
    "###  9) 조별 협력 내용 (상호 지도)\n",
    "5.1 5.2 5.3 5.4 서강찬\n",
    "5.5 5.6 5.7 홍민기\n",
    "5.8 김민상\n",
    "5.9 주동현\n",
    "상호 지도"
   ]
  },
  {
   "cell_type": "code",
   "execution_count": null,
   "id": "ef24ec4d-4fb4-4f14-b29d-199290d35654",
   "metadata": {},
   "outputs": [],
   "source": []
  }
 ],
 "metadata": {
  "kernelspec": {
   "display_name": "Python 3 (ipykernel)",
   "language": "python",
   "name": "python3"
  },
  "language_info": {
   "codemirror_mode": {
    "name": "ipython",
    "version": 3
   },
   "file_extension": ".py",
   "mimetype": "text/x-python",
   "name": "python",
   "nbconvert_exporter": "python",
   "pygments_lexer": "ipython3",
   "version": "3.10.13"
  }
 },
 "nbformat": 4,
 "nbformat_minor": 5
}
