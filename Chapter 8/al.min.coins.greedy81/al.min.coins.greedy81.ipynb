{
 "cells": [
  {
   "attachments": {
    "image.png": {
     "image/png": ""
    }
   },
   "cell_type": "markdown",
   "metadata": {},
   "source": [
    "1) 문제 정의 (MD)\n",
    "\n",
    "액면가가 서로 다른 m가지의 동정 {C1,C2 ..., Cm}이 있다. 거스름돈으로 V원을 동전으로만 돌려주어야 한다면 최소 몇개의 동전이 필요한지를 구하라. 단, 모든 동전은 무한히 사용할 수 잇고, 동전들은 액수가 큰 것부터 내림차순으로 정렬되어 있다.\n",
    "\n",
    "\n",
    "2) 알고리즘 설명  (MD)\n",
    "가장 큰 액면가의 동전부터 사용하여, 해당 동전으로 거스름돈을 계속 만들어 나간다.\n",
    "\n",
    "만약 현재 사용 중인 동전의 액면가가 거스름돈을 만들어야 하는 금액 V보다 크다면, 그 다음으로 작은 액면가의 동전을 사용합니다.\n",
    "\n",
    "이 과정을 거스름돈이 0이 될 때까지 반복합니다.\n",
    "\n",
    "최종적으로 사용한 동전의 개수를 반환합니다.\n",
    "\n",
    "\n",
    "3) 손으로 푼 예제 (MD, 이미지 삽입)\n",
    "![image.png](attachment:image.png)\n",
    "\n",
    "4) 코드 개요(입력 변수, 출력, 함수 설명) (MD)\n",
    "함수 설명:\n",
    "이 함수는 그리디 알고리즘을 사용하여 거스름돈을 돌려주기 위해 필요한 최소 동전의 개수를 계산합니다. 입력으로는 동전의 액면가를 나타내는 리스트 coins와 거슬러 주어야 할 금액 V를 받습니다. 그리고 출력으로는 거스름돈을 돌려주기 위해 사용된 각 동전의 개수를 담은 리스트를 반환합니다.\n",
    "\n",
    "입력 변수:\n",
    "coins: 거스름돈으로 사용 가능한 동전의 액면가를 담은 리스트입니다.\n",
    "V: 거슬러 주어야 할 금액을 나타내는 정수값입니다.\n",
    "출력:\n",
    "count: 거스름돈을 돌려주기 위해 사용된 각 동전의 개수를 담은 리스트입니다.\n",
    "함수 설명:\n",
    "count 리스트를 초기화합니다.\n",
    "coins 리스트의 각 동전 액면가에 대해 반복합니다.\n",
    "현재 동전으로 거스름돈을 만들 수 있는 개수를 계산하여 cnt 변수에 저장합니다.\n",
    "해당 개수를 count 리스트에 추가합니다.\n",
    "거스름돈에서 사용된 현재 동전의 금액을 제외합니다.\n",
    "최종적으로 각 동전의 개수가 담긴 count 리스트를 반환합니다.\n",
    "\n",
    "\n",
    "\n",
    "5) 코드 (PY,C)"
   ]
  },
  {
   "cell_type": "code",
   "execution_count": null,
   "metadata": {},
   "outputs": [],
   "source": [
    "def min_coins_greedy(coins, V):\n",
    "    count = []\n",
    "    for i in range(len(coins)):\n",
    "        cnt = V // coins[i]\n",
    "        count.appens(cnt)\n",
    "        V -= cnt * coins[i]\n",
    "    return count"
   ]
  },
  {
   "cell_type": "markdown",
   "metadata": {},
   "source": [
    "6) 테스트 코드  (PY,C) , 입력을 바꾸어서"
   ]
  },
  {
   "cell_type": "code",
   "execution_count": 1,
   "metadata": {},
   "outputs": [
    {
     "name": "stdout",
     "output_type": "stream",
     "text": [
      "각 동전의 개수: [1234, 0, 0, 0, 0, 0]\n"
     ]
    }
   ],
   "source": [
    "def min_coins_greedy(coins, V):\n",
    "    count = []\n",
    "    for i in range(len(coins)):\n",
    "        cnt = V // coins[i]\n",
    "        count.append(cnt)  # 오타 수정: append\n",
    "        V -= cnt * coins[i]\n",
    "    return count\n",
    "\n",
    "# 테스트를 위한 입력\n",
    "coins = [1, 5, 10, 50, 100, 500]\n",
    "V = 1234  # 거스름돈으로 주어야 할 금액\n",
    "\n",
    "# 함수 호출 및 결과 출력\n",
    "result = min_coins_greedy(coins, V)\n",
    "print(\"각 동전의 개수:\", result)\n"
   ]
  },
  {
   "attachments": {
    "image.png": {
     "image/png": "[encoded data removed]"
    }
   },
   "cell_type": "markdown",
   "metadata": {},
   "source": [
    "7) 수행 결과 (MD, 결과 캡춰하여 이미지로 삽입)\n",
    "![image.png](attachment:image.png)\n",
    "8) 복잡도 분석 (MD)\n",
    "이 그리디 알고리즘의 시간 복잡도는 주어진 거스름돈의 금액과 거스름돈으로 사용할 수 있는 동전의 개수에 선형적으로 의존합니다. 여기서 거스름돈의 금액을 V, 거스름돈으로 사용할 수 있는 동전의 개수를 n이라고 했을 때, 시간 복잡도는 대략적으로 O(n)입니다.\n",
    "\n",
    "알고리즘은 주어진 동전의 종류에 따라 한 번의 반복문을 수행합니다. 각 반복에서는 해당 동전으로 만들 수 있는 최대 개수를 계산하고, 이에 따라 거스름돈에서 해당 동전의 금액을 차감합니다. 이러한 과정을 거스름돈으로 사용할 수 있는 동전의 개수만큼 반복하게 됩니다. 따라서, 시간 복잡도는 O(n)이 됩니다.\n",
    "\n",
    "이 알고리즘은 그리디 접근 방식을 사용하므로, 각 단계에서 가장 큰 액면가의 동전을 사용하여 거스름돈을 만들어 나갑니다. 이에 따라 항상 최적의 해를 찾을 수 있습니다.\n",
    "9) 협력 내용(조별, 팀별)\n",
    "김민상 8.8,8.9\n",
    "주동현 8.2\n",
    "홍민기 8.1\n",
    "서강찬 8.5\n",
    "상호 지도"
   ]
  }
 ],
 "metadata": {
  "kernelspec": {
   "display_name": "Python 3",
   "language": "python",
   "name": "python3"
  },
  "language_info": {
   "codemirror_mode": {
    "name": "ipython",
    "version": 3
   },
   "file_extension": ".py",
   "mimetype": "text/x-python",
   "name": "python",
   "nbconvert_exporter": "python",
   "pygments_lexer": "ipython3",
   "version": "3.11.9"
  }
 },
 "nbformat": 4,
 "nbformat_minor": 2
}
