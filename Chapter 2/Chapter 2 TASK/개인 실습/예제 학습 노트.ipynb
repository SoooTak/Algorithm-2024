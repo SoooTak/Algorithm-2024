{
 "cells": [
  {
   "cell_type": "markdown",
   "id": "d9a501f5-c23b-421c-843b-48021f43bd97",
   "metadata": {},
   "source": [
    "# 2장 학습 예제\n",
    "## 202311388 김민상"
   ]
  },
  {
   "cell_type": "markdown",
   "id": "16dd1a2b-c39a-41c2-aaa6-5c62c4b39514",
   "metadata": {},
   "source": [
    "--------------------------------"
   ]
  },
  {
   "cell_type": "markdown",
   "id": "145b9ca1-fca1-436c-aa7a-9b5da1df6400",
   "metadata": {},
   "source": [
    "### [알고리즘 2.1] 순차 탐색"
   ]
  },
  {
   "cell_type": "code",
   "execution_count": 2,
   "id": "7d6867ff-aa5b-4405-9f8b-61bdd0d31987",
   "metadata": {},
   "outputs": [],
   "source": [
    "def sequential_search(A, key) :\n",
    "    for i in range(len(A)) :\n",
    "        if A[i] == key :\n",
    "            return i\n",
    "    return -1"
   ]
  },
  {
   "cell_type": "code",
   "execution_count": 6,
   "id": "15ca60a5-51a4-4ffd-b862-2a7b33851c2d",
   "metadata": {},
   "outputs": [
    {
     "name": "stdout",
     "output_type": "stream",
     "text": [
      "2\n"
     ]
    }
   ],
   "source": [
    "# 사용 예시\n",
    "list = [1,3,5,2,4,6]\n",
    "print(sequential_search(list, 5))"
   ]
  },
  {
   "cell_type": "markdown",
   "id": "fb161ce5-c091-4ec1-b712-172da1c78a5f",
   "metadata": {},
   "source": [
    "매개변수로 리스트 A와 찾아야 하는 값 key를 넘겨주면, 리스트의 인덱스 0부터 끝까지 차례대로 key값과 비교하여\n",
    "key값을 찾아내면 값의 인덱스를, 찾지 못하면 -1을 리턴하는 알고리즘"
   ]
  },
  {
   "cell_type": "markdown",
   "id": "f1163c0d-1c70-4760-a6cf-401fea626abf",
   "metadata": {},
   "source": [
    "기본 연산 : A[i]가 key와 같은지 비교하는 연산\n",
    "\n",
    "시간 복잡도 : O(n) (입력의 크기 (리스트의 크기)에 따라 선형적으로 비례)"
   ]
  },
  {
   "cell_type": "markdown",
   "id": "25d8b84e-5ecb-4bdf-9da2-6625b87fe9f3",
   "metadata": {},
   "source": [
    "----------------------"
   ]
  },
  {
   "cell_type": "markdown",
   "id": "b3d228e3-e3f5-42dd-be13-553d5e83c0ca",
   "metadata": {},
   "source": [
    "### [알고리즘 2.2] 자연수의 제곱 계산 [O(1)]"
   ]
  },
  {
   "cell_type": "code",
   "execution_count": 3,
   "id": "270bf0e2-89c7-45eb-934d-0d14590204de",
   "metadata": {},
   "outputs": [],
   "source": [
    "def compute_square_A(n) :\n",
    "    return n*n"
   ]
  },
  {
   "cell_type": "code",
   "execution_count": 7,
   "id": "1d5c66fa-d1bd-406b-8618-c398f3790667",
   "metadata": {},
   "outputs": [
    {
     "name": "stdout",
     "output_type": "stream",
     "text": [
      "100\n"
     ]
    }
   ],
   "source": [
    "# 사용 예시\n",
    "print(compute_square_A(10))"
   ]
  },
  {
   "cell_type": "markdown",
   "id": "cdc59791-cb53-4784-8b5d-94d108bcce09",
   "metadata": {},
   "source": [
    "매개변수로 수를 넘겨주면, 그 수의 제곱을 리턴하는 알고리즘\n",
    "\n",
    "기본 연산 : n*n\n",
    "\n",
    "시간 복잡도 : 입력의 크기 상관없이 항상 일정한 연산 횟수이므로 O(1) "
   ]
  },
  {
   "cell_type": "markdown",
   "id": "93ac5287-4f53-44ac-bcad-4db81d3bd6be",
   "metadata": {},
   "source": [
    "--------------------"
   ]
  },
  {
   "cell_type": "markdown",
   "id": "09e62223-a66c-4988-9168-442613a1c01c",
   "metadata": {},
   "source": [
    "### [알고리즘 2.3] 자연수의 제곱 계산 [O(n)]"
   ]
  },
  {
   "cell_type": "code",
   "execution_count": 10,
   "id": "40e064b7-50d1-444a-a43a-dcd2dd2a0f8f",
   "metadata": {},
   "outputs": [],
   "source": [
    "def compute_square_B(n) :\n",
    "    sum = 0\n",
    "    for i in range(n) :\n",
    "        sum = sum + n\n",
    "    return sum"
   ]
  },
  {
   "cell_type": "code",
   "execution_count": 11,
   "id": "3534ad85-7a93-4d3c-8f60-30a374b4b679",
   "metadata": {},
   "outputs": [
    {
     "name": "stdout",
     "output_type": "stream",
     "text": [
      "25\n"
     ]
    }
   ],
   "source": [
    "# 사용 예시\n",
    "print(compute_square_B(5))"
   ]
  },
  {
   "cell_type": "markdown",
   "id": "98487e70-aca6-4780-b627-6951f11091c3",
   "metadata": {},
   "source": [
    "매개변수로 수를 넘겨주면, i가 0부터 n-1까지 n을 n번 더한 값을 리턴하는 알고리즘\n",
    "\n",
    "기본 연산 : sum = sum + n\n",
    "\n",
    "시간 복잡도 : 기본 연산이 n번 수행되므로 O(n)\n",
    "\n",
    "--------------------------"
   ]
  },
  {
   "cell_type": "markdown",
   "id": "fdae61cc-e5c9-47cf-aa71-c79a58418a1a",
   "metadata": {},
   "source": [
    "### [알고리즘 2.4] 자연수의 제곱 계산 [O(n^2)]"
   ]
  },
  {
   "cell_type": "code",
   "execution_count": 12,
   "id": "8c266cb5-76a1-4448-9fb3-b43c89deedd8",
   "metadata": {},
   "outputs": [],
   "source": [
    "def compute_square_C(n) :\n",
    "    sum = 0\n",
    "    for i in range(n) :\n",
    "        for j in range(n) :\n",
    "            sum = sum + 1\n",
    "    return sum"
   ]
  },
  {
   "cell_type": "code",
   "execution_count": 13,
   "id": "cc9404af-384d-4a5a-8f01-cfa7ce876e24",
   "metadata": {},
   "outputs": [
    {
     "name": "stdout",
     "output_type": "stream",
     "text": [
      "49\n"
     ]
    }
   ],
   "source": [
    "# 사용 예시\n",
    "print(compute_square_C(7))"
   ]
  },
  {
   "cell_type": "markdown",
   "id": "52d6a2fd-09cb-44bc-beca-7ce26ff96c25",
   "metadata": {},
   "source": [
    "매개변수로 수를 넘겨주면, 이중 for문을 이용하여 sum에 1을 n^2번 더한 값을 리턴하는 알고리즘\n",
    "\n",
    "기본 연산 : sum = sum + 1\n",
    "\n",
    "시간 복잡도 : 기본 연산이 n^2번 수행되므로 O(n^2)\n",
    "\n",
    "----------------------------"
   ]
  },
  {
   "cell_type": "markdown",
   "id": "fcfb11fe-fdc1-4032-ac58-2e2d21f58067",
   "metadata": {},
   "source": [
    "### [알고리즘 2.5] 리스트의 중복 항목 탐색"
   ]
  },
  {
   "cell_type": "code",
   "execution_count": 15,
   "id": "de458720-4aa4-4518-8bc6-dc7440581047",
   "metadata": {},
   "outputs": [],
   "source": [
    "def unique_elements(A) :\n",
    "    n = len(A)\n",
    "    for i in range(n-1) :\n",
    "        for j in range(i+1, n) :\n",
    "            if A[i] == A[j] :\n",
    "                return False\n",
    "    return True"
   ]
  },
  {
   "cell_type": "code",
   "execution_count": 16,
   "id": "03c376c1-dad9-4211-9c35-67feb8939d49",
   "metadata": {},
   "outputs": [
    {
     "name": "stdout",
     "output_type": "stream",
     "text": [
      "False\n",
      "True\n"
     ]
    }
   ],
   "source": [
    "# 사용 예시\n",
    "A = [32, 14, 5, 17, 23, 9, 11, 14, 26, 29]\n",
    "B = [13, 6, 8, 7, 12, 25]\n",
    "print(unique_elements(A))\n",
    "print(unique_elements(B))"
   ]
  },
  {
   "cell_type": "markdown",
   "id": "606d2fc5-31c9-4b65-9a3b-eef2a3eb1755",
   "metadata": {},
   "source": [
    "매개변수로 리스트를 넘겨주면, 이중 for문을 이용하여 리스트의 중복항목이 있는지 판단 후 False 또는 True를 반환하는 알고리즘\n",
    "\n",
    "기본 연산 : A[i] == A[j]\n",
    "\n",
    "시간 복잡도 : 최악의 경우 기본 연산이 n(n-1)/2번 필요하므로 O(n^2)\n",
    "\n",
    "----------------------------"
   ]
  },
  {
   "cell_type": "markdown",
   "id": "c13c45dc-5cbb-4272-8904-446c00a084a7",
   "metadata": {},
   "source": [
    "### [알고리즘 2.6] 이진수 변환에서 총 비트 수 계산 (반복 알고리즘)"
   ]
  },
  {
   "cell_type": "code",
   "execution_count": 17,
   "id": "7a8596bc-1ab4-4fee-9c77-1dd2d66e230f",
   "metadata": {},
   "outputs": [],
   "source": [
    "def binary_digits(n) :\n",
    "    count = 1\n",
    "    while n > 1 :\n",
    "        count += 1\n",
    "        n //= 2\n",
    "    return count"
   ]
  },
  {
   "cell_type": "code",
   "execution_count": 18,
   "id": "02d3dff7-8120-4eff-bc70-577dad3835a7",
   "metadata": {},
   "outputs": [
    {
     "name": "stdin",
     "output_type": "stream",
     "text": [
      "숫자 입력 :  15\n"
     ]
    },
    {
     "name": "stdout",
     "output_type": "stream",
     "text": [
      "15를 2진수로 나타내는데 필요한 비트 수 = 4\n"
     ]
    }
   ],
   "source": [
    "# 사용 예시\n",
    "num = int(input(\"숫자 입력 : \"))\n",
    "print(f\"{num}를 2진수로 나타내는데 필요한 비트 수 = {binary_digits(num)}\")"
   ]
  },
  {
   "cell_type": "markdown",
   "id": "b3d78c8b-13fe-46ad-90bf-d3904886720e",
   "metadata": {},
   "source": [
    "매개변수로 10진수 n을 넘겨주면, n을 2로 나눈 횟수(비트 수)를 저장하여 반환하는 알고리즘\n",
    "\n",
    "기본 연산 : count += 1, n //= 2가 동일 횟수로 반복됨\n",
    "\n",
    "시간 복잡도 : O(log2_n)\n",
    "\n",
    "---------------"
   ]
  },
  {
   "cell_type": "markdown",
   "id": "696380ef-0dda-4d84-9961-de93dd40ae89",
   "metadata": {},
   "source": [
    "### [알고리즘 2.7] 순환적인 팩토리얼 알고리즘"
   ]
  },
  {
   "cell_type": "code",
   "execution_count": 19,
   "id": "dd3265b4-45eb-4a6e-98b8-e6de28a95ce7",
   "metadata": {},
   "outputs": [],
   "source": [
    "def factorial(n) :\n",
    "    if n == 1 :\n",
    "        return 1\n",
    "    else :\n",
    "        return n * factorial(n-1)"
   ]
  },
  {
   "cell_type": "code",
   "execution_count": 20,
   "id": "8f7cede8-2d12-43b7-96a7-b1739fd431e3",
   "metadata": {},
   "outputs": [
    {
     "name": "stdin",
     "output_type": "stream",
     "text": [
      "숫자 입력 :  5\n"
     ]
    },
    {
     "name": "stdout",
     "output_type": "stream",
     "text": [
      "5! = 120\n"
     ]
    }
   ],
   "source": [
    "# 사용 예시\n",
    "num = int(input(\"숫자 입력 : \"))\n",
    "print(f\"{num}! = {factorial(num)}\")"
   ]
  },
  {
   "cell_type": "markdown",
   "id": "276d22ee-bc26-445e-a3ff-1d3cae94cfdc",
   "metadata": {},
   "source": [
    "매개변수로 수를 넘겨주면, 자기 자신을 순환적으로 호출해 입력한 수의 팩토리얼을 구해 반환하는 함수\n",
    "\n",
    "기본 연산 : n * factorial(n-1)\n",
    "\n",
    "시간 복잡도 : n이 커질수록 자기 자신을 호출하는 횟수도 선형적으로 증가하므로 O(n)\n",
    "\n",
    "----------------"
   ]
  },
  {
   "cell_type": "markdown",
   "id": "805833aa-9ae5-4431-b01c-e28aa8a3ba9a",
   "metadata": {},
   "source": [
    "### [알고리즘 2.8] 반복구조의 팩토리얼 알고리즘"
   ]
  },
  {
   "cell_type": "code",
   "execution_count": 23,
   "id": "25a323ee-8e5a-469e-8dba-3eef092f9468",
   "metadata": {},
   "outputs": [],
   "source": [
    "def factorial1(n) :\n",
    "    result = 1\n",
    "    for k in range(n, 0, -1) :\n",
    "        result = result*k\n",
    "    return result"
   ]
  },
  {
   "cell_type": "code",
   "execution_count": 24,
   "id": "105fa233-3b43-49d8-b306-d6a4f361005d",
   "metadata": {},
   "outputs": [
    {
     "name": "stdin",
     "output_type": "stream",
     "text": [
      "숫자 입력 :  4\n"
     ]
    },
    {
     "name": "stdout",
     "output_type": "stream",
     "text": [
      "4! = 24\n"
     ]
    }
   ],
   "source": [
    "# 사용 예시\n",
    "num = int(input(\"숫자 입력 : \"))\n",
    "print(f\"{num}! = {factorial1(num)}\")"
   ]
  },
  {
   "cell_type": "markdown",
   "id": "629f6386-f5da-443c-9d30-d3665e9b74b3",
   "metadata": {},
   "source": [
    "매개변수로 수를 넘겨주면, 반복문을 통해 n부터 1까지 곱한 값을 반환하는 알고리즘\n",
    "\n",
    "기본 연산 : result = result * k\n",
    "\n",
    "시간 복잡도 : 순환구조와 동일함 (O(n))\n",
    "\n",
    "--------------"
   ]
  },
  {
   "cell_type": "markdown",
   "id": "362758f0-b2f6-448e-9a6e-527c7fc77c2c",
   "metadata": {},
   "source": [
    "### [알고리즘 2.9] 하노이의 탑"
   ]
  },
  {
   "cell_type": "code",
   "execution_count": 26,
   "id": "1e7a5900-876a-4b0f-9ead-7c53ab33a661",
   "metadata": {},
   "outputs": [],
   "source": [
    "def hanoi_tower(n, fr, tmp, to) :\n",
    "    if (n == 1) :\n",
    "        print(\"원판 1: %s --> %s\" % (fr, to))\n",
    "    else :\n",
    "        hanoi_tower(n-1, fr, to, tmp)\n",
    "        print(\"원판 %d: %s --> %s\" % (n, fr, to))\n",
    "        hanoi_tower(n-1, tmp, fr, to)"
   ]
  },
  {
   "cell_type": "code",
   "execution_count": 28,
   "id": "fccebe1b-54d6-45aa-a52c-58dad2b4e649",
   "metadata": {},
   "outputs": [
    {
     "name": "stdout",
     "output_type": "stream",
     "text": [
      "원판 1: A --> B\n",
      "원판 2: A --> C\n",
      "원판 1: B --> C\n",
      "원판 3: A --> B\n",
      "원판 1: C --> A\n",
      "원판 2: C --> B\n",
      "원판 1: A --> B\n",
      "원판 4: A --> C\n",
      "원판 1: B --> C\n",
      "원판 2: B --> A\n",
      "원판 1: C --> A\n",
      "원판 3: B --> C\n",
      "원판 1: A --> B\n",
      "원판 2: A --> C\n",
      "원판 1: B --> C\n"
     ]
    }
   ],
   "source": [
    "# 사용 예시\n",
    "hanoi_tower(4, 'A', 'B', 'C')"
   ]
  },
  {
   "cell_type": "markdown",
   "id": "009384d5-0cd5-4773-b37c-36d1871b4419",
   "metadata": {},
   "source": [
    "이동할 원판의 개수 n, 시작 막대 tr, 임시 막대 tmp, 목표 막대 to를 매개변수로 주면, 순환 구조를 이용해 하노이 탑 문제를 해결하는 알고리즘\n",
    "\n",
    "기본 연산 : print문\n",
    "\n",
    "시간 복잡도 : O(2^n)\n",
    "\n",
    "--------------------"
   ]
  },
  {
   "cell_type": "markdown",
   "id": "05fb5f89-df41-466f-8097-343da24389d2",
   "metadata": {},
   "source": [
    "# [알고리즘 2.10] 이진수 변환에서 총 비트 수 계산 (순환 알고리즘)"
   ]
  },
  {
   "cell_type": "code",
   "execution_count": 29,
   "id": "a382aa49-202b-4e9a-978c-9146a15e8384",
   "metadata": {},
   "outputs": [],
   "source": [
    "def binary_digits1(n) :\n",
    "    if n <= 1 :\n",
    "        return 1\n",
    "    else :\n",
    "        return 1 + binary_digits1(n//2)"
   ]
  },
  {
   "cell_type": "code",
   "execution_count": 30,
   "id": "34bd9edd-63a8-4863-8004-7f7e4a7b0b8b",
   "metadata": {},
   "outputs": [
    {
     "name": "stdin",
     "output_type": "stream",
     "text": [
      "숫자 입력 :  16\n"
     ]
    },
    {
     "name": "stdout",
     "output_type": "stream",
     "text": [
      "16를 2진수로 나타내는데 필요한 비트 수 = 5\n"
     ]
    }
   ],
   "source": [
    "# 사용 예시\n",
    "num = int(input(\"숫자 입력 : \"))\n",
    "print(f\"{num}를 2진수로 나타내는데 필요한 비트 수 = {binary_digits1(num)}\")"
   ]
  },
  {
   "cell_type": "markdown",
   "id": "c952e6e0-5407-48cf-adc0-66dfcd161ec1",
   "metadata": {},
   "source": [
    "매개변수로 10진수를 넘겨주면, 순환 구조를 통해 2진수로 변환할 때의 총 비트 수를 반환하는 알고리즘\n",
    "\n",
    "기본 연산 : 1 + binary_digits1(n//2)\n",
    "\n",
    "시간 복잡도 : O(log2_n)\n",
    "\n",
    "-----------------"
   ]
  },
  {
   "cell_type": "code",
   "execution_count": null,
   "id": "49e885c0-1f14-4d0b-a452-350609d4b5b1",
   "metadata": {},
   "outputs": [],
   "source": []
  }
 ],
 "metadata": {
  "kernelspec": {
   "display_name": "Python 3 (ipykernel)",
   "language": "python",
   "name": "python3"
  },
  "language_info": {
   "codemirror_mode": {
    "name": "ipython",
    "version": 3
   },
   "file_extension": ".py",
   "mimetype": "text/x-python",
   "name": "python",
   "nbconvert_exporter": "python",
   "pygments_lexer": "ipython3",
   "version": "3.10.13"
  }
 },
 "nbformat": 4,
 "nbformat_minor": 5
}
