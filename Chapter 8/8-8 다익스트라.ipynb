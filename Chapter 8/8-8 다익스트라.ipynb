{
 "cells": [
  {
   "cell_type": "markdown",
   "id": "3a9c77ea-ca7a-417d-9185-c361ca762cf1",
   "metadata": {},
   "source": [
    "# [8.8 다익스트라 최단경로 알고리즘]\n",
    "\n",
    "## 김민상\n",
    "\n",
    "### 1) 문제 정의 (MD)\n",
    "\n",
    "문제 이름 : 다익스트라 최단경로 알고리즘\n",
    "\n",
    "문제 설명 : 한 정점으로부터 모든정점까지의 최단 경로를 출력해야 함.\n",
    "\n",
    "문제 예시 : \n",
    "\n",
    "### 2) 알고리즘 설명  (MD)\n",
    "\n",
    "시작 노드를 설정한 후 가장 가까운 노드를 찾아가며 최단 경로를 찾는다.\n",
    "\n",
    "### 3) 손으로 푼 예제 (MD, 이미지 삽입)"
   ]
  },
  {
   "cell_type": "code",
   "execution_count": null,
   "id": "953d020e-3648-422e-bace-61269ac37fef",
   "metadata": {},
   "outputs": [],
   "source": []
  }
 ],
 "metadata": {
  "kernelspec": {
   "display_name": "Python 3 (ipykernel)",
   "language": "python",
   "name": "python3"
  },
  "language_info": {
   "codemirror_mode": {
    "name": "ipython",
    "version": 3
   },
   "file_extension": ".py",
   "mimetype": "text/x-python",
   "name": "python",
   "nbconvert_exporter": "python",
   "pygments_lexer": "ipython3",
   "version": "3.10.13"
  }
 },
 "nbformat": 4,
 "nbformat_minor": 5
}
