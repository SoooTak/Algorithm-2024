{
 "cells": [
  {
   "cell_type": "code",
   "execution_count": 2,
   "id": "40a74214-193e-465c-b37b-f9f1166556e6",
   "metadata": {},
   "outputs": [],
   "source": [
    "def sayHello() :\n",
    "    print(\"Hello, World!\")\n",
    "    return 0"
   ]
  },
  {
   "cell_type": "code",
   "execution_count": 3,
   "id": "5c79faa7-01ac-45a7-944c-31a9b7875622",
   "metadata": {},
   "outputs": [
    {
     "name": "stdout",
     "output_type": "stream",
     "text": [
      "Hello, World!\n"
     ]
    },
    {
     "data": {
      "text/plain": [
       "0"
      ]
     },
     "execution_count": 3,
     "metadata": {},
     "output_type": "execute_result"
    }
   ],
   "source": [
    "sayHello()"
   ]
  },
  {
   "cell_type": "code",
   "execution_count": 1,
   "id": "cedda818-bfe5-45c9-9608-823875d14a38",
   "metadata": {},
   "outputs": [
    {
     "name": "stdout",
     "output_type": "stream",
     "text": [
      "Hello, World! 김민상 Jupyter Notebook\n"
     ]
    }
   ],
   "source": [
    "print(\"Hello, World! 김민상 Jupyter Notebook\")"
   ]
  },
  {
   "cell_type": "markdown",
   "id": "b1a043c7-b2b3-47c7-8962-2b16ad96d188",
   "metadata": {},
   "source": [
    "Algorithm\n",
    "======"
   ]
  },
  {
   "cell_type": "markdown",
   "id": "56ba6b76-e5c2-4f92-b277-5cc76d203025",
   "metadata": {},
   "source": [
    "sayhello()\n",
    "---"
   ]
  },
  {
   "cell_type": "markdown",
   "id": "109f9f36-a69b-471c-8759-e8bf1145dc53",
   "metadata": {},
   "source": [
    "hi"
   ]
  },
  {
   "cell_type": "code",
   "execution_count": 1,
   "id": "ea14b8c3-593a-47b6-b5b7-dcb9a212ef6c",
   "metadata": {},
   "outputs": [],
   "source": [
    "x = 4"
   ]
  },
  {
   "cell_type": "code",
   "execution_count": 2,
   "id": "25b783c6-1a16-465d-8420-c94a7a6602ba",
   "metadata": {},
   "outputs": [
    {
     "data": {
      "text/plain": [
       "4"
      ]
     },
     "execution_count": 2,
     "metadata": {},
     "output_type": "execute_result"
    }
   ],
   "source": [
    "x"
   ]
  },
  {
   "cell_type": "code",
   "execution_count": null,
   "id": "c9e8740d-c971-4478-9041-171ed7ceb19f",
   "metadata": {},
   "outputs": [],
   "source": []
  }
 ],
 "metadata": {
  "kernelspec": {
   "display_name": "Python 3 (ipykernel)",
   "language": "python",
   "name": "python3"
  },
  "language_info": {
   "codemirror_mode": {
    "name": "ipython",
    "version": 3
   },
   "file_extension": ".py",
   "mimetype": "text/x-python",
   "name": "python",
   "nbconvert_exporter": "python",
   "pygments_lexer": "ipython3",
   "version": "3.9.13"
  }
 },
 "nbformat": 4,
 "nbformat_minor": 5
}
