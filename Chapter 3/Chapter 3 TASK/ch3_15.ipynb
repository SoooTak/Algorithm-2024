{
 "cells": [
  {
   "cell_type": "markdown",
   "id": "56ef3e59-06a8-4653-bb98-62b786175808",
   "metadata": {},
   "source": [
    "# CHAPTER 3 TASK"
   ]
  },
  {
   "cell_type": "markdown",
   "id": "40b78e7d-ff94-4dd3-8bd5-ecf1fb4d34dc",
   "metadata": {},
   "source": [
    "## 15. 그래프 G = (V, E)가 주어졌을 때, 하나의 해밀토니안 사이클을 찾는 알고리즘을 억지 기법으로 설계하라."
   ]
  },
  {
   "cell_type": "code",
   "execution_count": 11,
   "id": "21576660-3dbc-4f91-b5dc-4e048f0276ea",
   "metadata": {},
   "outputs": [
    {
     "ename": "IndentationError",
     "evalue": "unindent does not match any outer indentation level (<tokenize>, line 25)",
     "output_type": "error",
     "traceback": [
      "\u001b[1;36m  File \u001b[1;32m<tokenize>:25\u001b[1;36m\u001b[0m\n\u001b[1;33m    if recur(g, path, 1) == False:\u001b[0m\n\u001b[1;37m    ^\u001b[0m\n\u001b[1;31mIndentationError\u001b[0m\u001b[1;31m:\u001b[0m unindent does not match any outer indentation level\n"
     ]
    }
   ],
   "source": [
    "def not_error(g, v, pos, path): \n",
    " if g[ path[pos-1] ][v] == 0:\n",
    "     return False\n",
    " for vertex in path: \n",
    "     if vertex == v: \n",
    "         return False\n",
    " return True\n",
    "def recur(g, path, pos): \n",
    " n = len(g)\n",
    " if pos == n:\n",
    "    if g[path[pos-1]][path[0]] == 1: return True\n",
    "    else: return False\n",
    "    for v in range(1, n): \n",
    "        if not_error(g, v, pos, path) == True: \n",
    "            path[pos] = v \n",
    "            if recur(g, path, pos+1) == True: \n",
    "                 return True\n",
    "            path[pos] = -1\n",
    "    return False\n",
    "def cycle(g): \n",
    "     n = len(g)\n",
    "     path = [-1] * (n+1) \n",
    "     path[0] = path[n] = 0\n",
    " \n",
    " if recur(g, path, 1) == False: \n",
    "     print (\"해밀토니언 사이클이 없음\") \n",
    "     return False\n",
    " else :\n",
    "     print (\"해밀토니안 사이클: \", path) \n",
    "     return True\n",
    "\n",
    "g1 = [ [0, 1, 0, 1, 0],\n",
    " [1, 0, 1, 1, 1], \n",
    " [0, 1, 0, 0, 1],\n",
    " [1, 1, 0, 0, 1], \n",
    " [0, 1, 1, 1, 0], ] \n",
    "cycle(g1)"
   ]
  },
  {
   "cell_type": "code",
   "execution_count": null,
   "id": "9dc62f81-7ee7-461f-9cea-c49845b22484",
   "metadata": {},
   "outputs": [],
   "source": []
  }
 ],
 "metadata": {
  "kernelspec": {
   "display_name": "Python 3 (ipykernel)",
   "language": "python",
   "name": "python3"
  },
  "language_info": {
   "codemirror_mode": {
    "name": "ipython",
    "version": 3
   },
   "file_extension": ".py",
   "mimetype": "text/x-python",
   "name": "python",
   "nbconvert_exporter": "python",
   "pygments_lexer": "ipython3",
   "version": "3.10.13"
  }
 },
 "nbformat": 4,
 "nbformat_minor": 5
}
