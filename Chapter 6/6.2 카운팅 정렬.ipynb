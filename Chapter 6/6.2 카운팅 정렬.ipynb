{
 "cells": [
  {
   "cell_type": "markdown",
   "id": "95b6bc2b-c9e0-4352-9644-8bbb1ce734de",
   "metadata": {},
   "source": [
    "# [6.2 카운팅 정렬]\n",
    "\n",
    "## 김민상\n",
    "\n",
    "### 1) 문제 정의 (MD)\n",
    "\n",
    "문제 이름 : 카운팅 정렬\n",
    "\n",
    "문제 설명 : 주어진 리스트를 카운팅 정렬 방법으로 정렬해야 함.\n",
    "\n",
    "문제 예시 : [14, 11, 12, 12, 14, 12]가 주어지면 [11, 12, 12, 12, 14, 14]가 되어야 함.\n",
    "\n",
    "### 2) 알고리즘 설명  (MD)\n",
    "\n",
    "리스트의 각 항목의 개수를 세어 정렬함.\n",
    "\n",
    "### 3) 손으로 푼 예제 (MD, 이미지 삽입)\n"
   ]
  },
  {
   "cell_type": "markdown",
   "id": "2c08cf94-1674-48b7-ac9c-d9142f565084",
   "metadata": {},
   "source": []
  },
  {
   "cell_type": "markdown",
   "id": "91c9af5e-eb1e-450a-ad56-1a38f945d252",
   "metadata": {},
   "source": [
    "### 4) 알고리즘 코드 개요(입력 변수, 출력, 알고리즘 개요) (MD)\n",
    "\n",
    "함수 이름 : counting_sotr(A)\n",
    "\n",
    "매개변수 : 리스트 A\n",
    "\n",
    "출력 : 정렬된 리스트 A\n",
    "\n",
    "수행 순서 : \n",
    "1. 킷값 리스트를 생성하여 리스트에서 킷값의 빈도를 저장하고, 빈도에 따라 리스트를 정렬한다.\n",
    "\n",
    "### 5) 알고리즘 코드 (PY,C)"
   ]
  },
  {
   "cell_type": "code",
   "execution_count": 2,
   "id": "16f63271-8d5f-4966-b59d-4b81bfd9e8a9",
   "metadata": {},
   "outputs": [],
   "source": [
    "def counting_sort(A) :\n",
    "    output = [0] * len(A)\n",
    "    count = [0] * MAX_VAL\n",
    "    \n",
    "    for i in A:\n",
    "        count[i] += 1\n",
    "    \n",
    "    for i in range(MAX_VAL) :\n",
    "        count[i] += count[i-1]\n",
    "        \n",
    "    for i in range(len(A)) :\n",
    "        output[count[A[i]]-1] = A[i]\n",
    "        count[A[i]] -= 1\n",
    "        \n",
    "    for i in range(len(A)) :\n",
    "        A[i] = output[i]"
   ]
  },
  {
   "cell_type": "markdown",
   "id": "44ea045e-dcd4-407d-873d-a1e7b23fdd71",
   "metadata": {},
   "source": [
    "###   6) 테스트 코드  (PY,C) , 입력을 바꾸어서"
   ]
  },
  {
   "cell_type": "code",
   "execution_count": 4,
   "id": "0e38b1f6-108e-4598-adf6-6da0c43aa5ad",
   "metadata": {},
   "outputs": [
    {
     "name": "stdout",
     "output_type": "stream",
     "text": [
      "original :  [1, 4, 1, 2, 7, 5, 2, 3, 4, 4, 3]\n",
      "counting :  [1, 1, 2, 2, 3, 3, 4, 4, 4, 5, 7]\n"
     ]
    }
   ],
   "source": [
    "MAX_VAL = 10\n",
    "data = [1, 4, 1, 2, 7, 5, 2, 3, 4, 4, 3]\n",
    "print(\"original : \", data)\n",
    "counting_sort(data)\n",
    "print(\"counting : \", data)"
   ]
  },
  {
   "cell_type": "markdown",
   "id": "936cebc9-37fe-4326-85b2-a1d38d4f3a3a",
   "metadata": {},
   "source": [
    "###  7) 수행 결과 (MD, 결과 캡춰하여 이미지로 삽입)"
   ]
  },
  {
   "cell_type": "markdown",
   "id": "090ed66d-bba9-49ed-ae81-5d184742fdb2",
   "metadata": {},
   "source": []
  },
  {
   "cell_type": "markdown",
   "id": "b68ff7f0-0cb7-44eb-aef2-e02c70c4ad7f",
   "metadata": {},
   "source": [
    "### 8) 복잡도 분석\n",
    "\n",
    "리스트의 가장 큰 값 k에 비례하여 O(k + n)\n",
    "\n",
    "###  9) 조별 협력 내용 (상호 지도)\n",
    "\n",
    "각자 해결 후 질문사항 상호 지도"
   ]
  }
 ],
 "metadata": {
  "kernelspec": {
   "display_name": "Python 3 (ipykernel)",
   "language": "python",
   "name": "python3"
  },
  "language_info": {
   "codemirror_mode": {
    "name": "ipython",
    "version": 3
   },
   "file_extension": ".py",
   "mimetype": "text/x-python",
   "name": "python",
   "nbconvert_exporter": "python",
   "pygments_lexer": "ipython3",
   "version": "3.10.13"
  }
 },
 "nbformat": 4,
 "nbformat_minor": 5
}
