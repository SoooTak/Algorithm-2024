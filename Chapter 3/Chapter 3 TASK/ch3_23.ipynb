{
 "cells": [
  {
   "cell_type": "markdown",
   "id": "caaa12da-910d-4d08-9ad8-0d150c23389b",
   "metadata": {},
   "source": [
    "# CHAPTER 3 TASK"
   ]
  },
  {
   "cell_type": "markdown",
   "id": "711010da-c9e2-4673-9881-713a6dc671c1",
   "metadata": {},
   "source": [
    "## 23. 다음과 같은 그래프가 주어졌다. 물음에 답하라."
   ]
  },
  {
   "attachments": {
    "캡처.PNG": {
     "image/png": "[encoded data removed]"
    }
   },
   "cell_type": "markdown",
   "id": "a41140fe-2d21-43cb-84c7-cf305ecae858",
   "metadata": {},
   "source": [
    "![캡처.PNG](attachment:캡처.PNG)"
   ]
  },
  {
   "cell_type": "markdown",
   "id": "393b6b7a",
   "metadata": {},
   "source": [
    "### (1) 이 그래프를 인접 행렬로 표현하라."
   ]
  },
  {
   "attachments": {
    "캡처1.PNG": {
     "image/png": "[encoded data removed]"
    }
   },
   "cell_type": "markdown",
   "id": "257241a3",
   "metadata": {},
   "source": [
    "![캡처1.PNG](attachment:캡처1.PNG)"
   ]
  },
  {
   "cell_type": "markdown",
   "id": "c07badc2",
   "metadata": {},
   "source": [
    "### (2) 이 그래프를 인접 리스트로 표현하라."
   ]
  },
  {
   "cell_type": "code",
   "execution_count": 1,
   "id": "6cb390be",
   "metadata": {},
   "outputs": [],
   "source": [
    "mygraph = {\n",
    "    \"A\" : {\"B\", \"D\", \"E\"},\n",
    "    \"B\" : {\"A\", \"C\", \"E\", \"F\"},\n",
    "    \"C\" : {\"B\", \"G\"},\n",
    "    \"D\" : {\"A\", \"E\"},\n",
    "    \"E\" : {\"A\", \"B\", \"D\"},\n",
    "    \"F\" : {\"B\", \"G\"},\n",
    "    \"G\" : {\"C\", \"F\"}\n",
    "}"
   ]
  },
  {
   "cell_type": "markdown",
   "id": "763eb9bc",
   "metadata": {},
   "source": [
    "### (3) 정점 A를 출발 정점으로 하고 깊이 우선 방식으로 탐색하였을 때 방문하는 정점을 순서대로 나열하라. 단, 인접한 정점들 중에서는 알파벳으로 먼저 나오는 정점을 먼저 탐색한다고 가정하라."
   ]
  },
  {
   "cell_type": "markdown",
   "id": "81b9efc3",
   "metadata": {},
   "source": [
    "```\n",
    "A -> B -> C -> G -> F -> E -> D\n",
    "\n",
    "A 시작지점 -> [A]\n",
    "\n",
    "A 인접지점 - [A] = B, D, E  :  B로 설정 -> [A, B]\n",
    "\n",
    "B 인접지점 - [A, B] = C, E, F : C로 설정 -> [A, B, C]\n",
    "\n",
    "C 인접지점 - [A, B, C] = G : G로 설정 -> [A, B, C, G]\n",
    "\n",
    "G 인접지점 - [A, B, C, G] = F : F로 설정 -> [A, B, C, F, G]\n",
    "\n",
    "F 인접지점 - [A, B, C, F, G] = 없음 : B로 돌아감\n",
    "\n",
    "B 인접지점 - [A, B, C, F, G] = E : E로 설정 -> [A, B, C, E, F, G]\n",
    "\n",
    "E 인접지점 - [A, B, C, E, F, G] = D : D로 설정 -> [모든 정점 방문]\n",
    "\n",
    "모든 정점 방문했으므로 처음으로 돌아감\n",
    "\n",
    "```"
   ]
  },
  {
   "cell_type": "markdown",
   "id": "189e7b07",
   "metadata": {},
   "source": [
    "### (4) 위 문제에서 더 이상 방문하지 않은 인접 정점이 없어 첫 번째로 되돌아가는 정점을 찾아라."
   ]
  },
  {
   "cell_type": "markdown",
   "id": "fcb203ba",
   "metadata": {},
   "source": [
    "A -> B -> C -> G -> F로 방문하는 과정에서 F를 방문한 후 F의 인접정점 - 방문한 정점의 결과 공집합이 나오므로 F가 이전 정점으로 되돌아가는 첫 번째 정점이 된다."
   ]
  },
  {
   "cell_type": "markdown",
   "id": "578dd72b",
   "metadata": {},
   "source": [
    "### (5) 정점 A를 출발 정점으로 하고 깊이 우선 방식으로 탐색하였을 때 방문하는 정점을 순서대로 나열하라. 단, 인접한 정점들 중에서는 알파벳으로 먼저 나오는 정점을 먼저 탐색한다고 가정하라."
   ]
  },
  {
   "cell_type": "markdown",
   "id": "e60c56e9",
   "metadata": {},
   "source": [
    "[A] -> A 꺼내고 인접 정점 삽입 [B, D, E]\n",
    "\n",
    "-> B 꺼내고 인접 정점 삽입 [D, E, C, F]\n",
    "\n",
    "-> D 꺼내고 인접 정점 삽입 [E, C, F]\n",
    "\n",
    "-> E 꺼내고 인접 정점 삽입 [C, F]\n",
    "\n",
    "-> C 꺼내고 인접 정점 삽입 [F, G]\n",
    "\n",
    "-> F .. [G]\n",
    "\n",
    "-> G .. [모든 정점 방문]\n",
    "\n",
    "즉 A -> B -> D -> E -> C -> F -> G"
   ]
  }
 ],
 "metadata": {
  "kernelspec": {
   "display_name": "Python 3 (ipykernel)",
   "language": "python",
   "name": "python3"
  },
  "language_info": {
   "codemirror_mode": {
    "name": "ipython",
    "version": 3
   },
   "file_extension": ".py",
   "mimetype": "text/x-python",
   "name": "python",
   "nbconvert_exporter": "python",
   "pygments_lexer": "ipython3",
   "version": "3.10.13"
  }
 },
 "nbformat": 4,
 "nbformat_minor": 5
}
