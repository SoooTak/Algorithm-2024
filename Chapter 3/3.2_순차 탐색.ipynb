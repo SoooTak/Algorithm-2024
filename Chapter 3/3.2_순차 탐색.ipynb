{
 "cells": [
  {
   "cell_type": "markdown",
   "id": "7895d59d-2648-4e5a-bd85-3e3408b7406c",
   "metadata": {},
   "source": [
    "# 1. 문제 정의\n",
    "# 키를 받아 리스트 안의 내용을 순차 탐색하여 어느 인덱스에 키와 같은 값이 존재하는지 판별하는 문제\n",
    "# 2. 알고리즘 설명\n",
    "# 키와 리스트를 입력받아 리스트를 길이까지 키와 같은지 판별하고 리스트 내에 있다면 그 인덱스를 반환, 아니면 -1을 반환\n",
    "# 3 손으로 푼 예제\n",
    "# \n",
    "# 4. 알고리즘 개요\n",
    "# A = 정렬되지 않은 리스트이다, Key = 리스트 안에 있는 숫자와 비교하는 키, i = 키와 같은 값의 리스트 인덱스 값, -1 = 리스트에 없는 경우의 반환 값\n",
    "# 5. 알고리즘 코드 \n",
    "# \n",
    "# 6. 테스트 코드\n",
    "#\n",
    "# 7. 수행 결과\n",
    "# \n",
    "# 8. 복잡도 분석\n",
    "# 리스트의 길이 n만큼 시행하는 함수 이기 때문에 복잡도는 O(n) 이다. \n",
    "# 9. 조별 협력 내용\n",
    "# (주동현) 문제 3.2 해결, (김민상) 문제 3.4 해결, (홍민기) 문제 3.1 해결, (서강찬) 문제 3.3 해결 (주동현, 김민상) 문제 3.6 해결\n",
    "\n",
    "# 5. 알고리즘 코드 \n",
    "def seq_search(A, key):\n",
    "    for i in range(len(A)):\n",
    "        if A[i] == key:\n",
    "            return i\n",
    "    return -1\n",
    "\n",
    "print(\"인덱스\",seq_search([1,2,3,4,5], 4), \"에 있습니다.\") # 알고리즘 코드\n",
    "\n",
    "# 6. 테스트 코드\n",
    "print(\"인덱스\",seq_search([1,2,3,4,5,6,7,8,9,10], 7), \"에 있습니다.\") # 테스트 코드 "
   ]
  }
 ],
 "metadata": {
  "kernelspec": {
   "display_name": "Python 3 (ipykernel)",
   "language": "python",
   "name": "python3"
  },
  "language_info": {
   "codemirror_mode": {
    "name": "ipython",
    "version": 3
   },
   "file_extension": ".py",
   "mimetype": "text/x-python",
   "name": "python",
   "nbconvert_exporter": "python",
   "pygments_lexer": "ipython3",
   "version": "3.10.13"
  }
 },
 "nbformat": 4,
 "nbformat_minor": 5
}
